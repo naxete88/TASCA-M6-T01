{
 "cells": [
  {
   "cell_type": "markdown",
   "id": "385e242e",
   "metadata": {},
   "source": [
    "# TASCA M6 T01 Regressió"
   ]
  },
  {
   "cell_type": "code",
   "execution_count": 1,
   "id": "c5d7bba9",
   "metadata": {},
   "outputs": [],
   "source": [
    "# import libraries\n",
    "import numpy as np\n",
    "from numpy import arange\n",
    "from numpy import std\n",
    "from numpy import absolute\n",
    "import pandas as pd\n",
    "import matplotlib.pyplot as plt\n",
    "import seaborn as sns\n",
    "from sklearn import datasets\n",
    "from sklearn import preprocessing\n",
    "from sklearn import linear_model\n",
    "from sklearn import metrics\n",
    "from sklearn import svm\n",
    "from sklearn.linear_model import LinearRegression\n",
    "from sklearn.linear_model import Ridge\n",
    "from sklearn.linear_model import Lasso\n",
    "from sklearn.linear_model import ElasticNet\n",
    "from sklearn.linear_model import ElasticNetCV\n",
    "from sklearn.model_selection import train_test_split\n",
    "from sklearn.model_selection import GridSearchCV\n",
    "from sklearn.model_selection import RandomizedSearchCV\n",
    "from sklearn.metrics import mean_squared_error\n",
    "from sklearn.metrics import r2_score\n",
    "from sklearn.preprocessing import StandardScaler\n",
    "from sklearn.preprocessing import RobustScaler\n",
    "from sklearn.preprocessing import PolynomialFeatures\n",
    "from sklearn.ensemble import RandomForestRegressor\n",
    "from sklearn.neural_network import MLPRegressor\n",
    "from sklearn.model_selection import cross_val_score\n",
    "from sklearn.model_selection import RepeatedKFold"
   ]
  },
  {
   "cell_type": "code",
   "execution_count": 2,
   "id": "9121bc99",
   "metadata": {},
   "outputs": [],
   "source": [
    "# import dataset\n",
    "columnes= ['CRIM', 'ZN', 'INDUS','CHAS', 'NOX', 'RM', 'AGE', 'DIS', 'RAD', 'TAX', 'PTRATIO', 'B', 'LSTAT', 'MEDV']\n",
    "# la variable dependent\n",
    "columna_y = ['MEDV']\n",
    "housing = pd.read_csv('C:\\housing_data.csv', names = columnes, header= None, encoding = \"ISO-8859-1\" )"
   ]
  },
  {
   "cell_type": "markdown",
   "id": "3200ff29",
   "metadata": {},
   "source": [
    "- CRIM -> taxa de criminalitat per cápita per ciutat.\n",
    "- ZN -> proporció de sòl residencial zonificat per a lots de més de 25.000 metres cuadrats\n",
    "- INDUS -> proporció d'hectàrees comercials no minoristes per ciutat\n",
    "- CHAS -> variable ficticia de Charles River (=1 si el tram limita el riu; 0 en cas contrari)\n",
    "- NOX -> concentració d'òxids nítrics (parts per 10 milions)\n",
    "- RM -> nombre mitjà d'habitacions per habitatge\n",
    "- AGE -> proporció d'unitats ocupades pels propietaris construïdes abans de 1940.\n",
    "- DIS -> distàncices ponderades fins a cinc centres de treball de boston\n",
    "- RAD -> índex d'accessibilitat a les carreteres radials.\n",
    "- TAX -> Taxa de l'impost sobre béns inmobles de valor total per 10.000 dólars\n",
    "- PTRATIO -> ràtio alumnes professor per municipi.\n",
    "- B -> 1000(BK - 0.63)^2 on BK és la proporció de negres per ciutat.\n",
    "- LSTAT -> % d'estatus inferior de la població.\n",
    "- MEDV -> Valor mitjà de les cases opcupades pel propietari per 1000 dolars."
   ]
  },
  {
   "cell_type": "markdown",
   "id": "af96d503",
   "metadata": {},
   "source": [
    "## Preprocessament"
   ]
  },
  {
   "cell_type": "code",
   "execution_count": 3,
   "id": "55ad9b77",
   "metadata": {},
   "outputs": [
    {
     "data": {
      "text/html": [
       "<div>\n",
       "<style scoped>\n",
       "    .dataframe tbody tr th:only-of-type {\n",
       "        vertical-align: middle;\n",
       "    }\n",
       "\n",
       "    .dataframe tbody tr th {\n",
       "        vertical-align: top;\n",
       "    }\n",
       "\n",
       "    .dataframe thead th {\n",
       "        text-align: right;\n",
       "    }\n",
       "</style>\n",
       "<table border=\"1\" class=\"dataframe\">\n",
       "  <thead>\n",
       "    <tr style=\"text-align: right;\">\n",
       "      <th></th>\n",
       "      <th>CRIM</th>\n",
       "      <th>ZN</th>\n",
       "      <th>INDUS</th>\n",
       "      <th>CHAS</th>\n",
       "      <th>NOX</th>\n",
       "      <th>RM</th>\n",
       "      <th>AGE</th>\n",
       "      <th>DIS</th>\n",
       "      <th>RAD</th>\n",
       "      <th>TAX</th>\n",
       "      <th>PTRATIO</th>\n",
       "      <th>B</th>\n",
       "      <th>LSTAT</th>\n",
       "      <th>MEDV</th>\n",
       "    </tr>\n",
       "  </thead>\n",
       "  <tbody>\n",
       "    <tr>\n",
       "      <th>count</th>\n",
       "      <td>506.000000</td>\n",
       "      <td>506.000000</td>\n",
       "      <td>506.000000</td>\n",
       "      <td>506.000000</td>\n",
       "      <td>506.000000</td>\n",
       "      <td>506.000000</td>\n",
       "      <td>506.000000</td>\n",
       "      <td>506.000000</td>\n",
       "      <td>506.000000</td>\n",
       "      <td>506.000000</td>\n",
       "      <td>506.000000</td>\n",
       "      <td>506.000000</td>\n",
       "      <td>506.000000</td>\n",
       "      <td>506.000000</td>\n",
       "    </tr>\n",
       "    <tr>\n",
       "      <th>mean</th>\n",
       "      <td>3.613524</td>\n",
       "      <td>11.363636</td>\n",
       "      <td>11.136779</td>\n",
       "      <td>0.069170</td>\n",
       "      <td>0.554695</td>\n",
       "      <td>6.284634</td>\n",
       "      <td>68.574901</td>\n",
       "      <td>3.795043</td>\n",
       "      <td>9.549407</td>\n",
       "      <td>408.237154</td>\n",
       "      <td>18.455534</td>\n",
       "      <td>356.674032</td>\n",
       "      <td>12.653063</td>\n",
       "      <td>22.532806</td>\n",
       "    </tr>\n",
       "    <tr>\n",
       "      <th>std</th>\n",
       "      <td>8.601545</td>\n",
       "      <td>23.322453</td>\n",
       "      <td>6.860353</td>\n",
       "      <td>0.253994</td>\n",
       "      <td>0.115878</td>\n",
       "      <td>0.702617</td>\n",
       "      <td>28.148861</td>\n",
       "      <td>2.105710</td>\n",
       "      <td>8.707259</td>\n",
       "      <td>168.537116</td>\n",
       "      <td>2.164946</td>\n",
       "      <td>91.294864</td>\n",
       "      <td>7.141062</td>\n",
       "      <td>9.197104</td>\n",
       "    </tr>\n",
       "    <tr>\n",
       "      <th>min</th>\n",
       "      <td>0.006320</td>\n",
       "      <td>0.000000</td>\n",
       "      <td>0.460000</td>\n",
       "      <td>0.000000</td>\n",
       "      <td>0.385000</td>\n",
       "      <td>3.561000</td>\n",
       "      <td>2.900000</td>\n",
       "      <td>1.129600</td>\n",
       "      <td>1.000000</td>\n",
       "      <td>187.000000</td>\n",
       "      <td>12.600000</td>\n",
       "      <td>0.320000</td>\n",
       "      <td>1.730000</td>\n",
       "      <td>5.000000</td>\n",
       "    </tr>\n",
       "    <tr>\n",
       "      <th>25%</th>\n",
       "      <td>0.082045</td>\n",
       "      <td>0.000000</td>\n",
       "      <td>5.190000</td>\n",
       "      <td>0.000000</td>\n",
       "      <td>0.449000</td>\n",
       "      <td>5.885500</td>\n",
       "      <td>45.025000</td>\n",
       "      <td>2.100175</td>\n",
       "      <td>4.000000</td>\n",
       "      <td>279.000000</td>\n",
       "      <td>17.400000</td>\n",
       "      <td>375.377500</td>\n",
       "      <td>6.950000</td>\n",
       "      <td>17.025000</td>\n",
       "    </tr>\n",
       "    <tr>\n",
       "      <th>50%</th>\n",
       "      <td>0.256510</td>\n",
       "      <td>0.000000</td>\n",
       "      <td>9.690000</td>\n",
       "      <td>0.000000</td>\n",
       "      <td>0.538000</td>\n",
       "      <td>6.208500</td>\n",
       "      <td>77.500000</td>\n",
       "      <td>3.207450</td>\n",
       "      <td>5.000000</td>\n",
       "      <td>330.000000</td>\n",
       "      <td>19.050000</td>\n",
       "      <td>391.440000</td>\n",
       "      <td>11.360000</td>\n",
       "      <td>21.200000</td>\n",
       "    </tr>\n",
       "    <tr>\n",
       "      <th>75%</th>\n",
       "      <td>3.677083</td>\n",
       "      <td>12.500000</td>\n",
       "      <td>18.100000</td>\n",
       "      <td>0.000000</td>\n",
       "      <td>0.624000</td>\n",
       "      <td>6.623500</td>\n",
       "      <td>94.075000</td>\n",
       "      <td>5.188425</td>\n",
       "      <td>24.000000</td>\n",
       "      <td>666.000000</td>\n",
       "      <td>20.200000</td>\n",
       "      <td>396.225000</td>\n",
       "      <td>16.955000</td>\n",
       "      <td>25.000000</td>\n",
       "    </tr>\n",
       "    <tr>\n",
       "      <th>max</th>\n",
       "      <td>88.976200</td>\n",
       "      <td>100.000000</td>\n",
       "      <td>27.740000</td>\n",
       "      <td>1.000000</td>\n",
       "      <td>0.871000</td>\n",
       "      <td>8.780000</td>\n",
       "      <td>100.000000</td>\n",
       "      <td>12.126500</td>\n",
       "      <td>24.000000</td>\n",
       "      <td>711.000000</td>\n",
       "      <td>22.000000</td>\n",
       "      <td>396.900000</td>\n",
       "      <td>37.970000</td>\n",
       "      <td>50.000000</td>\n",
       "    </tr>\n",
       "  </tbody>\n",
       "</table>\n",
       "</div>"
      ],
      "text/plain": [
       "             CRIM          ZN       INDUS        CHAS         NOX          RM  \\\n",
       "count  506.000000  506.000000  506.000000  506.000000  506.000000  506.000000   \n",
       "mean     3.613524   11.363636   11.136779    0.069170    0.554695    6.284634   \n",
       "std      8.601545   23.322453    6.860353    0.253994    0.115878    0.702617   \n",
       "min      0.006320    0.000000    0.460000    0.000000    0.385000    3.561000   \n",
       "25%      0.082045    0.000000    5.190000    0.000000    0.449000    5.885500   \n",
       "50%      0.256510    0.000000    9.690000    0.000000    0.538000    6.208500   \n",
       "75%      3.677083   12.500000   18.100000    0.000000    0.624000    6.623500   \n",
       "max     88.976200  100.000000   27.740000    1.000000    0.871000    8.780000   \n",
       "\n",
       "              AGE         DIS         RAD         TAX     PTRATIO           B  \\\n",
       "count  506.000000  506.000000  506.000000  506.000000  506.000000  506.000000   \n",
       "mean    68.574901    3.795043    9.549407  408.237154   18.455534  356.674032   \n",
       "std     28.148861    2.105710    8.707259  168.537116    2.164946   91.294864   \n",
       "min      2.900000    1.129600    1.000000  187.000000   12.600000    0.320000   \n",
       "25%     45.025000    2.100175    4.000000  279.000000   17.400000  375.377500   \n",
       "50%     77.500000    3.207450    5.000000  330.000000   19.050000  391.440000   \n",
       "75%     94.075000    5.188425   24.000000  666.000000   20.200000  396.225000   \n",
       "max    100.000000   12.126500   24.000000  711.000000   22.000000  396.900000   \n",
       "\n",
       "            LSTAT        MEDV  \n",
       "count  506.000000  506.000000  \n",
       "mean    12.653063   22.532806  \n",
       "std      7.141062    9.197104  \n",
       "min      1.730000    5.000000  \n",
       "25%      6.950000   17.025000  \n",
       "50%     11.360000   21.200000  \n",
       "75%     16.955000   25.000000  \n",
       "max     37.970000   50.000000  "
      ]
     },
     "execution_count": 3,
     "metadata": {},
     "output_type": "execute_result"
    }
   ],
   "source": [
    "housing.describe()"
   ]
  },
  {
   "cell_type": "markdown",
   "id": "5d1d927a",
   "metadata": {},
   "source": [
    "## elements duplicats"
   ]
  },
  {
   "cell_type": "code",
   "execution_count": 4,
   "id": "2cff42ba",
   "metadata": {},
   "outputs": [
    {
     "name": "stdout",
     "output_type": "stream",
     "text": [
      "No hi ha elements duplicats\n"
     ]
    }
   ],
   "source": [
    "# miro si hi ha elements duplicats\n",
    "housing_clean = housing.drop_duplicates()\n",
    "if len(housing_clean) == len(housing):\n",
    "    print(\"No hi ha elements duplicats\")\n",
    "else:\n",
    "    print(\"Hi ha elements duplicats\")"
   ]
  },
  {
   "cell_type": "markdown",
   "id": "10964b6a",
   "metadata": {},
   "source": [
    "## elements nuls"
   ]
  },
  {
   "cell_type": "code",
   "execution_count": 5,
   "id": "379278e2",
   "metadata": {},
   "outputs": [
    {
     "data": {
      "text/html": [
       "<div>\n",
       "<style scoped>\n",
       "    .dataframe tbody tr th:only-of-type {\n",
       "        vertical-align: middle;\n",
       "    }\n",
       "\n",
       "    .dataframe tbody tr th {\n",
       "        vertical-align: top;\n",
       "    }\n",
       "\n",
       "    .dataframe thead th {\n",
       "        text-align: right;\n",
       "    }\n",
       "</style>\n",
       "<table border=\"1\" class=\"dataframe\">\n",
       "  <thead>\n",
       "    <tr style=\"text-align: right;\">\n",
       "      <th></th>\n",
       "      <th>CRIM</th>\n",
       "      <th>ZN</th>\n",
       "      <th>INDUS</th>\n",
       "      <th>CHAS</th>\n",
       "      <th>NOX</th>\n",
       "      <th>RM</th>\n",
       "      <th>AGE</th>\n",
       "      <th>DIS</th>\n",
       "      <th>RAD</th>\n",
       "      <th>TAX</th>\n",
       "      <th>PTRATIO</th>\n",
       "      <th>B</th>\n",
       "      <th>LSTAT</th>\n",
       "      <th>MEDV</th>\n",
       "    </tr>\n",
       "  </thead>\n",
       "  <tbody>\n",
       "    <tr>\n",
       "      <th>0</th>\n",
       "      <td>False</td>\n",
       "      <td>False</td>\n",
       "      <td>False</td>\n",
       "      <td>False</td>\n",
       "      <td>False</td>\n",
       "      <td>False</td>\n",
       "      <td>False</td>\n",
       "      <td>False</td>\n",
       "      <td>False</td>\n",
       "      <td>False</td>\n",
       "      <td>False</td>\n",
       "      <td>False</td>\n",
       "      <td>False</td>\n",
       "      <td>False</td>\n",
       "    </tr>\n",
       "    <tr>\n",
       "      <th>1</th>\n",
       "      <td>False</td>\n",
       "      <td>False</td>\n",
       "      <td>False</td>\n",
       "      <td>False</td>\n",
       "      <td>False</td>\n",
       "      <td>False</td>\n",
       "      <td>False</td>\n",
       "      <td>False</td>\n",
       "      <td>False</td>\n",
       "      <td>False</td>\n",
       "      <td>False</td>\n",
       "      <td>False</td>\n",
       "      <td>False</td>\n",
       "      <td>False</td>\n",
       "    </tr>\n",
       "    <tr>\n",
       "      <th>2</th>\n",
       "      <td>False</td>\n",
       "      <td>False</td>\n",
       "      <td>False</td>\n",
       "      <td>False</td>\n",
       "      <td>False</td>\n",
       "      <td>False</td>\n",
       "      <td>False</td>\n",
       "      <td>False</td>\n",
       "      <td>False</td>\n",
       "      <td>False</td>\n",
       "      <td>False</td>\n",
       "      <td>False</td>\n",
       "      <td>False</td>\n",
       "      <td>False</td>\n",
       "    </tr>\n",
       "    <tr>\n",
       "      <th>3</th>\n",
       "      <td>False</td>\n",
       "      <td>False</td>\n",
       "      <td>False</td>\n",
       "      <td>False</td>\n",
       "      <td>False</td>\n",
       "      <td>False</td>\n",
       "      <td>False</td>\n",
       "      <td>False</td>\n",
       "      <td>False</td>\n",
       "      <td>False</td>\n",
       "      <td>False</td>\n",
       "      <td>False</td>\n",
       "      <td>False</td>\n",
       "      <td>False</td>\n",
       "    </tr>\n",
       "    <tr>\n",
       "      <th>4</th>\n",
       "      <td>False</td>\n",
       "      <td>False</td>\n",
       "      <td>False</td>\n",
       "      <td>False</td>\n",
       "      <td>False</td>\n",
       "      <td>False</td>\n",
       "      <td>False</td>\n",
       "      <td>False</td>\n",
       "      <td>False</td>\n",
       "      <td>False</td>\n",
       "      <td>False</td>\n",
       "      <td>False</td>\n",
       "      <td>False</td>\n",
       "      <td>False</td>\n",
       "    </tr>\n",
       "    <tr>\n",
       "      <th>...</th>\n",
       "      <td>...</td>\n",
       "      <td>...</td>\n",
       "      <td>...</td>\n",
       "      <td>...</td>\n",
       "      <td>...</td>\n",
       "      <td>...</td>\n",
       "      <td>...</td>\n",
       "      <td>...</td>\n",
       "      <td>...</td>\n",
       "      <td>...</td>\n",
       "      <td>...</td>\n",
       "      <td>...</td>\n",
       "      <td>...</td>\n",
       "      <td>...</td>\n",
       "    </tr>\n",
       "    <tr>\n",
       "      <th>501</th>\n",
       "      <td>False</td>\n",
       "      <td>False</td>\n",
       "      <td>False</td>\n",
       "      <td>False</td>\n",
       "      <td>False</td>\n",
       "      <td>False</td>\n",
       "      <td>False</td>\n",
       "      <td>False</td>\n",
       "      <td>False</td>\n",
       "      <td>False</td>\n",
       "      <td>False</td>\n",
       "      <td>False</td>\n",
       "      <td>False</td>\n",
       "      <td>False</td>\n",
       "    </tr>\n",
       "    <tr>\n",
       "      <th>502</th>\n",
       "      <td>False</td>\n",
       "      <td>False</td>\n",
       "      <td>False</td>\n",
       "      <td>False</td>\n",
       "      <td>False</td>\n",
       "      <td>False</td>\n",
       "      <td>False</td>\n",
       "      <td>False</td>\n",
       "      <td>False</td>\n",
       "      <td>False</td>\n",
       "      <td>False</td>\n",
       "      <td>False</td>\n",
       "      <td>False</td>\n",
       "      <td>False</td>\n",
       "    </tr>\n",
       "    <tr>\n",
       "      <th>503</th>\n",
       "      <td>False</td>\n",
       "      <td>False</td>\n",
       "      <td>False</td>\n",
       "      <td>False</td>\n",
       "      <td>False</td>\n",
       "      <td>False</td>\n",
       "      <td>False</td>\n",
       "      <td>False</td>\n",
       "      <td>False</td>\n",
       "      <td>False</td>\n",
       "      <td>False</td>\n",
       "      <td>False</td>\n",
       "      <td>False</td>\n",
       "      <td>False</td>\n",
       "    </tr>\n",
       "    <tr>\n",
       "      <th>504</th>\n",
       "      <td>False</td>\n",
       "      <td>False</td>\n",
       "      <td>False</td>\n",
       "      <td>False</td>\n",
       "      <td>False</td>\n",
       "      <td>False</td>\n",
       "      <td>False</td>\n",
       "      <td>False</td>\n",
       "      <td>False</td>\n",
       "      <td>False</td>\n",
       "      <td>False</td>\n",
       "      <td>False</td>\n",
       "      <td>False</td>\n",
       "      <td>False</td>\n",
       "    </tr>\n",
       "    <tr>\n",
       "      <th>505</th>\n",
       "      <td>False</td>\n",
       "      <td>False</td>\n",
       "      <td>False</td>\n",
       "      <td>False</td>\n",
       "      <td>False</td>\n",
       "      <td>False</td>\n",
       "      <td>False</td>\n",
       "      <td>False</td>\n",
       "      <td>False</td>\n",
       "      <td>False</td>\n",
       "      <td>False</td>\n",
       "      <td>False</td>\n",
       "      <td>False</td>\n",
       "      <td>False</td>\n",
       "    </tr>\n",
       "  </tbody>\n",
       "</table>\n",
       "<p>506 rows × 14 columns</p>\n",
       "</div>"
      ],
      "text/plain": [
       "      CRIM     ZN  INDUS   CHAS    NOX     RM    AGE    DIS    RAD    TAX  \\\n",
       "0    False  False  False  False  False  False  False  False  False  False   \n",
       "1    False  False  False  False  False  False  False  False  False  False   \n",
       "2    False  False  False  False  False  False  False  False  False  False   \n",
       "3    False  False  False  False  False  False  False  False  False  False   \n",
       "4    False  False  False  False  False  False  False  False  False  False   \n",
       "..     ...    ...    ...    ...    ...    ...    ...    ...    ...    ...   \n",
       "501  False  False  False  False  False  False  False  False  False  False   \n",
       "502  False  False  False  False  False  False  False  False  False  False   \n",
       "503  False  False  False  False  False  False  False  False  False  False   \n",
       "504  False  False  False  False  False  False  False  False  False  False   \n",
       "505  False  False  False  False  False  False  False  False  False  False   \n",
       "\n",
       "     PTRATIO      B  LSTAT   MEDV  \n",
       "0      False  False  False  False  \n",
       "1      False  False  False  False  \n",
       "2      False  False  False  False  \n",
       "3      False  False  False  False  \n",
       "4      False  False  False  False  \n",
       "..       ...    ...    ...    ...  \n",
       "501    False  False  False  False  \n",
       "502    False  False  False  False  \n",
       "503    False  False  False  False  \n",
       "504    False  False  False  False  \n",
       "505    False  False  False  False  \n",
       "\n",
       "[506 rows x 14 columns]"
      ]
     },
     "execution_count": 5,
     "metadata": {},
     "output_type": "execute_result"
    }
   ],
   "source": [
    "# comprovo si hi ha elements nuls\n",
    "housing.isnull()"
   ]
  },
  {
   "cell_type": "code",
   "execution_count": 6,
   "id": "c48f7f77",
   "metadata": {},
   "outputs": [
    {
     "data": {
      "text/plain": [
       "CRIM       0.0\n",
       "ZN         0.0\n",
       "INDUS      0.0\n",
       "CHAS       0.0\n",
       "NOX        0.0\n",
       "RM         0.0\n",
       "AGE        0.0\n",
       "DIS        0.0\n",
       "RAD        0.0\n",
       "TAX        0.0\n",
       "PTRATIO    0.0\n",
       "B          0.0\n",
       "LSTAT      0.0\n",
       "MEDV       0.0\n",
       "dtype: float64"
      ]
     },
     "execution_count": 6,
     "metadata": {},
     "output_type": "execute_result"
    }
   ],
   "source": [
    "# comprovo si hi ha elements nuls.\n",
    "(housing.isnull().sum())*100 / len(housing)"
   ]
  },
  {
   "cell_type": "markdown",
   "id": "e6d98844",
   "metadata": {},
   "source": [
    "## dummies"
   ]
  },
  {
   "cell_type": "code",
   "execution_count": 7,
   "id": "b0a4e6de",
   "metadata": {},
   "outputs": [
    {
     "data": {
      "text/html": [
       "<div>\n",
       "<style scoped>\n",
       "    .dataframe tbody tr th:only-of-type {\n",
       "        vertical-align: middle;\n",
       "    }\n",
       "\n",
       "    .dataframe tbody tr th {\n",
       "        vertical-align: top;\n",
       "    }\n",
       "\n",
       "    .dataframe thead th {\n",
       "        text-align: right;\n",
       "    }\n",
       "</style>\n",
       "<table border=\"1\" class=\"dataframe\">\n",
       "  <thead>\n",
       "    <tr style=\"text-align: right;\">\n",
       "      <th></th>\n",
       "      <th>CRIM</th>\n",
       "      <th>ZN</th>\n",
       "      <th>INDUS</th>\n",
       "      <th>NOX</th>\n",
       "      <th>RM</th>\n",
       "      <th>AGE</th>\n",
       "      <th>DIS</th>\n",
       "      <th>RAD</th>\n",
       "      <th>TAX</th>\n",
       "      <th>PTRATIO</th>\n",
       "      <th>B</th>\n",
       "      <th>LSTAT</th>\n",
       "      <th>MEDV</th>\n",
       "      <th>NO_RIVER</th>\n",
       "      <th>RIVER_LIMIT</th>\n",
       "    </tr>\n",
       "  </thead>\n",
       "  <tbody>\n",
       "    <tr>\n",
       "      <th>0</th>\n",
       "      <td>0.00632</td>\n",
       "      <td>18.0</td>\n",
       "      <td>2.31</td>\n",
       "      <td>0.538</td>\n",
       "      <td>6.575</td>\n",
       "      <td>65.2</td>\n",
       "      <td>4.0900</td>\n",
       "      <td>1</td>\n",
       "      <td>296.0</td>\n",
       "      <td>15.3</td>\n",
       "      <td>396.90</td>\n",
       "      <td>4.98</td>\n",
       "      <td>24.0</td>\n",
       "      <td>1</td>\n",
       "      <td>0</td>\n",
       "    </tr>\n",
       "    <tr>\n",
       "      <th>1</th>\n",
       "      <td>0.02731</td>\n",
       "      <td>0.0</td>\n",
       "      <td>7.07</td>\n",
       "      <td>0.469</td>\n",
       "      <td>6.421</td>\n",
       "      <td>78.9</td>\n",
       "      <td>4.9671</td>\n",
       "      <td>2</td>\n",
       "      <td>242.0</td>\n",
       "      <td>17.8</td>\n",
       "      <td>396.90</td>\n",
       "      <td>9.14</td>\n",
       "      <td>21.6</td>\n",
       "      <td>1</td>\n",
       "      <td>0</td>\n",
       "    </tr>\n",
       "    <tr>\n",
       "      <th>2</th>\n",
       "      <td>0.02729</td>\n",
       "      <td>0.0</td>\n",
       "      <td>7.07</td>\n",
       "      <td>0.469</td>\n",
       "      <td>7.185</td>\n",
       "      <td>61.1</td>\n",
       "      <td>4.9671</td>\n",
       "      <td>2</td>\n",
       "      <td>242.0</td>\n",
       "      <td>17.8</td>\n",
       "      <td>392.83</td>\n",
       "      <td>4.03</td>\n",
       "      <td>34.7</td>\n",
       "      <td>1</td>\n",
       "      <td>0</td>\n",
       "    </tr>\n",
       "    <tr>\n",
       "      <th>3</th>\n",
       "      <td>0.03237</td>\n",
       "      <td>0.0</td>\n",
       "      <td>2.18</td>\n",
       "      <td>0.458</td>\n",
       "      <td>6.998</td>\n",
       "      <td>45.8</td>\n",
       "      <td>6.0622</td>\n",
       "      <td>3</td>\n",
       "      <td>222.0</td>\n",
       "      <td>18.7</td>\n",
       "      <td>394.63</td>\n",
       "      <td>2.94</td>\n",
       "      <td>33.4</td>\n",
       "      <td>1</td>\n",
       "      <td>0</td>\n",
       "    </tr>\n",
       "    <tr>\n",
       "      <th>4</th>\n",
       "      <td>0.06905</td>\n",
       "      <td>0.0</td>\n",
       "      <td>2.18</td>\n",
       "      <td>0.458</td>\n",
       "      <td>7.147</td>\n",
       "      <td>54.2</td>\n",
       "      <td>6.0622</td>\n",
       "      <td>3</td>\n",
       "      <td>222.0</td>\n",
       "      <td>18.7</td>\n",
       "      <td>396.90</td>\n",
       "      <td>5.33</td>\n",
       "      <td>36.2</td>\n",
       "      <td>1</td>\n",
       "      <td>0</td>\n",
       "    </tr>\n",
       "    <tr>\n",
       "      <th>...</th>\n",
       "      <td>...</td>\n",
       "      <td>...</td>\n",
       "      <td>...</td>\n",
       "      <td>...</td>\n",
       "      <td>...</td>\n",
       "      <td>...</td>\n",
       "      <td>...</td>\n",
       "      <td>...</td>\n",
       "      <td>...</td>\n",
       "      <td>...</td>\n",
       "      <td>...</td>\n",
       "      <td>...</td>\n",
       "      <td>...</td>\n",
       "      <td>...</td>\n",
       "      <td>...</td>\n",
       "    </tr>\n",
       "    <tr>\n",
       "      <th>501</th>\n",
       "      <td>0.06263</td>\n",
       "      <td>0.0</td>\n",
       "      <td>11.93</td>\n",
       "      <td>0.573</td>\n",
       "      <td>6.593</td>\n",
       "      <td>69.1</td>\n",
       "      <td>2.4786</td>\n",
       "      <td>1</td>\n",
       "      <td>273.0</td>\n",
       "      <td>21.0</td>\n",
       "      <td>391.99</td>\n",
       "      <td>9.67</td>\n",
       "      <td>22.4</td>\n",
       "      <td>1</td>\n",
       "      <td>0</td>\n",
       "    </tr>\n",
       "    <tr>\n",
       "      <th>502</th>\n",
       "      <td>0.04527</td>\n",
       "      <td>0.0</td>\n",
       "      <td>11.93</td>\n",
       "      <td>0.573</td>\n",
       "      <td>6.120</td>\n",
       "      <td>76.7</td>\n",
       "      <td>2.2875</td>\n",
       "      <td>1</td>\n",
       "      <td>273.0</td>\n",
       "      <td>21.0</td>\n",
       "      <td>396.90</td>\n",
       "      <td>9.08</td>\n",
       "      <td>20.6</td>\n",
       "      <td>1</td>\n",
       "      <td>0</td>\n",
       "    </tr>\n",
       "    <tr>\n",
       "      <th>503</th>\n",
       "      <td>0.06076</td>\n",
       "      <td>0.0</td>\n",
       "      <td>11.93</td>\n",
       "      <td>0.573</td>\n",
       "      <td>6.976</td>\n",
       "      <td>91.0</td>\n",
       "      <td>2.1675</td>\n",
       "      <td>1</td>\n",
       "      <td>273.0</td>\n",
       "      <td>21.0</td>\n",
       "      <td>396.90</td>\n",
       "      <td>5.64</td>\n",
       "      <td>23.9</td>\n",
       "      <td>1</td>\n",
       "      <td>0</td>\n",
       "    </tr>\n",
       "    <tr>\n",
       "      <th>504</th>\n",
       "      <td>0.10959</td>\n",
       "      <td>0.0</td>\n",
       "      <td>11.93</td>\n",
       "      <td>0.573</td>\n",
       "      <td>6.794</td>\n",
       "      <td>89.3</td>\n",
       "      <td>2.3889</td>\n",
       "      <td>1</td>\n",
       "      <td>273.0</td>\n",
       "      <td>21.0</td>\n",
       "      <td>393.45</td>\n",
       "      <td>6.48</td>\n",
       "      <td>22.0</td>\n",
       "      <td>1</td>\n",
       "      <td>0</td>\n",
       "    </tr>\n",
       "    <tr>\n",
       "      <th>505</th>\n",
       "      <td>0.04741</td>\n",
       "      <td>0.0</td>\n",
       "      <td>11.93</td>\n",
       "      <td>0.573</td>\n",
       "      <td>6.030</td>\n",
       "      <td>80.8</td>\n",
       "      <td>2.5050</td>\n",
       "      <td>1</td>\n",
       "      <td>273.0</td>\n",
       "      <td>21.0</td>\n",
       "      <td>396.90</td>\n",
       "      <td>7.88</td>\n",
       "      <td>11.9</td>\n",
       "      <td>1</td>\n",
       "      <td>0</td>\n",
       "    </tr>\n",
       "  </tbody>\n",
       "</table>\n",
       "<p>506 rows × 15 columns</p>\n",
       "</div>"
      ],
      "text/plain": [
       "        CRIM    ZN  INDUS    NOX     RM   AGE     DIS  RAD    TAX  PTRATIO  \\\n",
       "0    0.00632  18.0   2.31  0.538  6.575  65.2  4.0900    1  296.0     15.3   \n",
       "1    0.02731   0.0   7.07  0.469  6.421  78.9  4.9671    2  242.0     17.8   \n",
       "2    0.02729   0.0   7.07  0.469  7.185  61.1  4.9671    2  242.0     17.8   \n",
       "3    0.03237   0.0   2.18  0.458  6.998  45.8  6.0622    3  222.0     18.7   \n",
       "4    0.06905   0.0   2.18  0.458  7.147  54.2  6.0622    3  222.0     18.7   \n",
       "..       ...   ...    ...    ...    ...   ...     ...  ...    ...      ...   \n",
       "501  0.06263   0.0  11.93  0.573  6.593  69.1  2.4786    1  273.0     21.0   \n",
       "502  0.04527   0.0  11.93  0.573  6.120  76.7  2.2875    1  273.0     21.0   \n",
       "503  0.06076   0.0  11.93  0.573  6.976  91.0  2.1675    1  273.0     21.0   \n",
       "504  0.10959   0.0  11.93  0.573  6.794  89.3  2.3889    1  273.0     21.0   \n",
       "505  0.04741   0.0  11.93  0.573  6.030  80.8  2.5050    1  273.0     21.0   \n",
       "\n",
       "          B  LSTAT  MEDV  NO_RIVER  RIVER_LIMIT  \n",
       "0    396.90   4.98  24.0         1            0  \n",
       "1    396.90   9.14  21.6         1            0  \n",
       "2    392.83   4.03  34.7         1            0  \n",
       "3    394.63   2.94  33.4         1            0  \n",
       "4    396.90   5.33  36.2         1            0  \n",
       "..      ...    ...   ...       ...          ...  \n",
       "501  391.99   9.67  22.4         1            0  \n",
       "502  396.90   9.08  20.6         1            0  \n",
       "503  396.90   5.64  23.9         1            0  \n",
       "504  393.45   6.48  22.0         1            0  \n",
       "505  396.90   7.88  11.9         1            0  \n",
       "\n",
       "[506 rows x 15 columns]"
      ]
     },
     "execution_count": 7,
     "metadata": {},
     "output_type": "execute_result"
    }
   ],
   "source": [
    "housing_dummy = housing\n",
    "# faig la variable dummy\n",
    "housing_dummy_CHAS= pd.get_dummies(housing[\"CHAS\"], prefix = \"CHAS\")\n",
    "\n",
    "# agreguem les columnes\n",
    "housing_dummy = pd.concat([housing_dummy, housing_dummy_CHAS], axis = 1)\n",
    "housing_dummy = housing_dummy.rename(columns={'CHAS_1' : 'RIVER_LIMIT', 'CHAS_0' : 'NO_RIVER'})\n",
    "housing_dummy_1 = housing_dummy.drop([\"CHAS\"], axis = 1)\n",
    "housing_dummy_1"
   ]
  },
  {
   "cell_type": "code",
   "execution_count": 8,
   "id": "5d7da449",
   "metadata": {},
   "outputs": [],
   "source": [
    "columnes_amb_dummy = ['CRIM', 'ZN', 'INDUS', 'NOX', 'RM', 'AGE', 'DIS', 'RAD', 'TAX', 'PTRATIO', 'B', 'LSTAT','MEDV','NO_RIVER','RIVER_LIMIT']\n",
    "# les variables independents\n",
    "columnes_X = ['CRIM', 'ZN', 'INDUS', 'NOX', 'RM', 'AGE', 'DIS', 'RAD', 'TAX', 'PTRATIO', 'B', 'LSTAT','NO_RIVER','RIVER_LIMIT']\n",
    "# per l'exercici 5 trio les variables independents sense 'RM'\n",
    "columnes_X_exercici_5 = ['CRIM', 'ZN', 'INDUS','CHAS', 'NOX', 'AGE', 'DIS', 'RAD', 'TAX', 'PTRATIO', 'B', 'LSTAT','NO_RIVER','RIVER_LIMIT']"
   ]
  },
  {
   "cell_type": "markdown",
   "id": "c126e07c",
   "metadata": {},
   "source": [
    "## estandarització"
   ]
  },
  {
   "cell_type": "code",
   "execution_count": 9,
   "id": "0eecc766",
   "metadata": {},
   "outputs": [
    {
     "data": {
      "text/html": [
       "<div>\n",
       "<style scoped>\n",
       "    .dataframe tbody tr th:only-of-type {\n",
       "        vertical-align: middle;\n",
       "    }\n",
       "\n",
       "    .dataframe tbody tr th {\n",
       "        vertical-align: top;\n",
       "    }\n",
       "\n",
       "    .dataframe thead th {\n",
       "        text-align: right;\n",
       "    }\n",
       "</style>\n",
       "<table border=\"1\" class=\"dataframe\">\n",
       "  <thead>\n",
       "    <tr style=\"text-align: right;\">\n",
       "      <th></th>\n",
       "      <th>CRIM</th>\n",
       "      <th>ZN</th>\n",
       "      <th>INDUS</th>\n",
       "      <th>NOX</th>\n",
       "      <th>RM</th>\n",
       "      <th>AGE</th>\n",
       "      <th>DIS</th>\n",
       "      <th>RAD</th>\n",
       "      <th>TAX</th>\n",
       "      <th>PTRATIO</th>\n",
       "      <th>B</th>\n",
       "      <th>LSTAT</th>\n",
       "      <th>MEDV</th>\n",
       "      <th>NO_RIVER</th>\n",
       "      <th>RIVER_LIMIT</th>\n",
       "    </tr>\n",
       "  </thead>\n",
       "  <tbody>\n",
       "    <tr>\n",
       "      <th>0</th>\n",
       "      <td>-0.069593</td>\n",
       "      <td>1.44</td>\n",
       "      <td>-0.571650</td>\n",
       "      <td>0.000000</td>\n",
       "      <td>0.496612</td>\n",
       "      <td>-0.250765</td>\n",
       "      <td>0.285777</td>\n",
       "      <td>-0.20</td>\n",
       "      <td>-0.087855</td>\n",
       "      <td>-1.339286</td>\n",
       "      <td>0.261902</td>\n",
       "      <td>-0.637681</td>\n",
       "      <td>0.351097</td>\n",
       "      <td>0.0</td>\n",
       "      <td>0.0</td>\n",
       "    </tr>\n",
       "    <tr>\n",
       "      <th>1</th>\n",
       "      <td>-0.063755</td>\n",
       "      <td>0.00</td>\n",
       "      <td>-0.202943</td>\n",
       "      <td>-0.394286</td>\n",
       "      <td>0.287940</td>\n",
       "      <td>0.028542</td>\n",
       "      <td>0.569789</td>\n",
       "      <td>-0.15</td>\n",
       "      <td>-0.227390</td>\n",
       "      <td>-0.446429</td>\n",
       "      <td>0.261902</td>\n",
       "      <td>-0.221889</td>\n",
       "      <td>0.050157</td>\n",
       "      <td>0.0</td>\n",
       "      <td>0.0</td>\n",
       "    </tr>\n",
       "    <tr>\n",
       "      <th>2</th>\n",
       "      <td>-0.063760</td>\n",
       "      <td>0.00</td>\n",
       "      <td>-0.202943</td>\n",
       "      <td>-0.394286</td>\n",
       "      <td>1.323171</td>\n",
       "      <td>-0.334353</td>\n",
       "      <td>0.569789</td>\n",
       "      <td>-0.15</td>\n",
       "      <td>-0.227390</td>\n",
       "      <td>-0.446429</td>\n",
       "      <td>0.066675</td>\n",
       "      <td>-0.732634</td>\n",
       "      <td>1.692790</td>\n",
       "      <td>0.0</td>\n",
       "      <td>0.0</td>\n",
       "    </tr>\n",
       "    <tr>\n",
       "      <th>3</th>\n",
       "      <td>-0.062347</td>\n",
       "      <td>0.00</td>\n",
       "      <td>-0.581720</td>\n",
       "      <td>-0.457143</td>\n",
       "      <td>1.069783</td>\n",
       "      <td>-0.646279</td>\n",
       "      <td>0.924391</td>\n",
       "      <td>-0.10</td>\n",
       "      <td>-0.279070</td>\n",
       "      <td>-0.125000</td>\n",
       "      <td>0.153016</td>\n",
       "      <td>-0.841579</td>\n",
       "      <td>1.529781</td>\n",
       "      <td>0.0</td>\n",
       "      <td>0.0</td>\n",
       "    </tr>\n",
       "    <tr>\n",
       "      <th>4</th>\n",
       "      <td>-0.052144</td>\n",
       "      <td>0.00</td>\n",
       "      <td>-0.581720</td>\n",
       "      <td>-0.457143</td>\n",
       "      <td>1.271680</td>\n",
       "      <td>-0.475025</td>\n",
       "      <td>0.924391</td>\n",
       "      <td>-0.10</td>\n",
       "      <td>-0.279070</td>\n",
       "      <td>-0.125000</td>\n",
       "      <td>0.261902</td>\n",
       "      <td>-0.602699</td>\n",
       "      <td>1.880878</td>\n",
       "      <td>0.0</td>\n",
       "      <td>0.0</td>\n",
       "    </tr>\n",
       "  </tbody>\n",
       "</table>\n",
       "</div>"
      ],
      "text/plain": [
       "       CRIM    ZN     INDUS       NOX        RM       AGE       DIS   RAD  \\\n",
       "0 -0.069593  1.44 -0.571650  0.000000  0.496612 -0.250765  0.285777 -0.20   \n",
       "1 -0.063755  0.00 -0.202943 -0.394286  0.287940  0.028542  0.569789 -0.15   \n",
       "2 -0.063760  0.00 -0.202943 -0.394286  1.323171 -0.334353  0.569789 -0.15   \n",
       "3 -0.062347  0.00 -0.581720 -0.457143  1.069783 -0.646279  0.924391 -0.10   \n",
       "4 -0.052144  0.00 -0.581720 -0.457143  1.271680 -0.475025  0.924391 -0.10   \n",
       "\n",
       "        TAX   PTRATIO         B     LSTAT      MEDV  NO_RIVER  RIVER_LIMIT  \n",
       "0 -0.087855 -1.339286  0.261902 -0.637681  0.351097       0.0          0.0  \n",
       "1 -0.227390 -0.446429  0.261902 -0.221889  0.050157       0.0          0.0  \n",
       "2 -0.227390 -0.446429  0.066675 -0.732634  1.692790       0.0          0.0  \n",
       "3 -0.279070 -0.125000  0.153016 -0.841579  1.529781       0.0          0.0  \n",
       "4 -0.279070 -0.125000  0.261902 -0.602699  1.880878       0.0          0.0  "
      ]
     },
     "execution_count": 9,
     "metadata": {},
     "output_type": "execute_result"
    }
   ],
   "source": [
    "# defineixo scaler\n",
    "scaler = RobustScaler()\n",
    "# transformo\n",
    "df = scaler.fit_transform(housing_dummy_1)\n",
    "# converteixo l'array en DataFrame\n",
    "housing_scaled_df = pd.DataFrame(df, columns=columnes_amb_dummy)\n",
    "# mostro resultat\n",
    "housing_scaled_df.head()"
   ]
  },
  {
   "cell_type": "markdown",
   "id": "5c1620f3",
   "metadata": {},
   "source": [
    "### Creem variables dependents i independents"
   ]
  },
  {
   "cell_type": "code",
   "execution_count": 10,
   "id": "e8ee1fcc",
   "metadata": {},
   "outputs": [],
   "source": [
    "# labels són els valors que volem predir\n",
    "y = housing_scaled_df['MEDV'].values\n",
    "# eliminem labels de les features\n",
    "X = housing_scaled_df.drop('MEDV', axis=1)\n",
    "# guardem features\n",
    "feature_list = list(X.columns)\n",
    "# convertim en numpy array\n",
    "X = X.values"
   ]
  },
  {
   "cell_type": "markdown",
   "id": "c4ec40e0",
   "metadata": {},
   "source": [
    "## Exercici 1\n",
    "Crea almenys dos models de regressió diferents per intentar predir el millor possible preu de les vivendes (MEDV) DE l'arxiu adjunt."
   ]
  },
  {
   "cell_type": "code",
   "execution_count": 11,
   "id": "02b05e2c",
   "metadata": {},
   "outputs": [
    {
     "name": "stdout",
     "output_type": "stream",
     "text": [
      "0.9827554314483801\n",
      "0.022889379203935814\n"
     ]
    }
   ],
   "source": [
    "# Regressió Random Forest\n",
    "# triem el tipos de model\n",
    "rf = RandomForestRegressor(n_estimators = 300, random_state = 30)\n",
    "# ajustem\n",
    "rf.fit(X,y)\n",
    "# fem les prediccions\n",
    "rf_pred = rf.predict(X)\n",
    "# triem r2\n",
    "r2_rf = r2_score(y, rf_pred)\n",
    "print(r2_rf)\n",
    "# treiem MSE\n",
    "mse_rf = mean_squared_error(y, rf_pred)\n",
    "print(mse_rf)"
   ]
  },
  {
   "cell_type": "code",
   "execution_count": 12,
   "id": "7d0d0e3b",
   "metadata": {},
   "outputs": [
    {
     "name": "stdout",
     "output_type": "stream",
     "text": [
      "0.6795937892889988\n",
      "0.4252874888871227\n"
     ]
    }
   ],
   "source": [
    "# Regressió Elastic Net\n",
    "# triem el tipus de model\n",
    "model_enet = ElasticNet(alpha = 0.10)\n",
    "# ajustem\n",
    "model_enet.fit(X, y)\n",
    "# fem les prediccions\n",
    "pred_enet = model_enet.predict(X)\n",
    "# treiem el r2\n",
    "r2_enet = r2_score(y, pred_enet)\n",
    "print(r2_enet)\n",
    "# treiem MSE\n",
    "mse_enet = mean_squared_error(y, pred_enet)\n",
    "print(mse_enet)"
   ]
  },
  {
   "cell_type": "markdown",
   "id": "da2bc4c6",
   "metadata": {},
   "source": [
    "## Exercici 2\n",
    "Comparal's en base al MSE i al R2."
   ]
  },
  {
   "cell_type": "code",
   "execution_count": 13,
   "id": "7adb13de",
   "metadata": {},
   "outputs": [
    {
     "name": "stdout",
     "output_type": "stream",
     "text": [
      "Si comparem R2 dels regressors: random forest té: 0.9827554314483801 model elastic net té: 0.6795937892889988\n",
      "Si comparem MSE random forest té: 0.022889379203935814 model elastic net té: 0.4252874888871227\n"
     ]
    }
   ],
   "source": [
    "print(\n",
    "'Si comparem R2 dels regressors: random forest té:', r2_rf,'model elastic net té:', r2_enet)\n",
    "print(\n",
    "'Si comparem MSE random forest té:', mse_rf,'model elastic net té:', mse_enet)"
   ]
  },
  {
   "cell_type": "markdown",
   "id": "681d9c59",
   "metadata": {},
   "source": [
    "## Exercici 3\n",
    "Entrenal's utilitzant els diferents paràmetres que admeten per intentar millorar-ne la predicció."
   ]
  },
  {
   "cell_type": "markdown",
   "id": "738baec2",
   "metadata": {},
   "source": [
    "### Creem conjunts d'entrenament i prova"
   ]
  },
  {
   "cell_type": "code",
   "execution_count": 14,
   "id": "7d4ef748",
   "metadata": {},
   "outputs": [
    {
     "name": "stdout",
     "output_type": "stream",
     "text": [
      "(404, 14)\n",
      "(102, 14)\n"
     ]
    }
   ],
   "source": [
    "X_train, X_test, y_train, y_test = train_test_split(X, y, train_size = 0.8, test_size = 0.2, random_state = 10)\n",
    "print(X_train.shape); print(X_test.shape)"
   ]
  },
  {
   "cell_type": "markdown",
   "id": "83457c28",
   "metadata": {},
   "source": [
    "### Entrenament Random Forest"
   ]
  },
  {
   "cell_type": "code",
   "execution_count": 15,
   "id": "62b92e9c",
   "metadata": {},
   "outputs": [
    {
     "name": "stdout",
     "output_type": "stream",
     "text": [
      "Dades entrenament\n",
      "0.98\n",
      "0.024130431955745494\n",
      "Dades evaluació\n",
      "0.8560902178371823\n",
      "0.24\n"
     ]
    }
   ],
   "source": [
    "rf = RandomForestRegressor(n_estimators = 300, random_state = 30)\n",
    "# ajustem entrenament\n",
    "model_rf = rf.fit(X_train, y_train)\n",
    "# predim entrenament\n",
    "pred_train_rf = rf.predict(X_train)\n",
    "# imprimim mètriques d'entrenament\n",
    "r2_rf_train = r2_score(y_train, pred_train_rf).round(2)\n",
    "mse_rf_train = mean_squared_error(y_train, pred_train_rf)\n",
    "print('Dades entrenament')\n",
    "print(r2_rf_train)\n",
    "print(mse_rf_train)\n",
    "# predim avaluació\n",
    "pred_test_rf = rf.predict(X_test)\n",
    "# imprimim métriques d'avaluació\n",
    "r2_rf_test = r2_score(y_test, pred_test_rf)\n",
    "mse_rf_test = mean_squared_error(y_test, pred_test_rf).round(2)\n",
    "print('Dades evaluació')\n",
    "print(r2_rf_test)\n",
    "print(mse_rf_test)"
   ]
  },
  {
   "cell_type": "code",
   "execution_count": 16,
   "id": "c100f54a",
   "metadata": {},
   "outputs": [
    {
     "name": "stdout",
     "output_type": "stream",
     "text": [
      "{'bootstrap': True, 'ccp_alpha': 0.0, 'criterion': 'squared_error', 'max_depth': None, 'max_features': 'auto', 'max_leaf_nodes': None, 'max_samples': None, 'min_impurity_decrease': 0.0, 'min_samples_leaf': 1, 'min_samples_split': 2, 'min_weight_fraction_leaf': 0.0, 'n_estimators': 300, 'n_jobs': None, 'oob_score': False, 'random_state': 30, 'verbose': 0, 'warm_start': False}\n"
     ]
    }
   ],
   "source": [
    "# mirem els paràmetres que estem utilitzant:\n",
    "print(rf.get_params())"
   ]
  },
  {
   "cell_type": "code",
   "execution_count": 17,
   "id": "ad053fe7",
   "metadata": {},
   "outputs": [
    {
     "name": "stdout",
     "output_type": "stream",
     "text": [
      "{'n_estimators': [200, 400, 600, 800, 1000, 1200, 1400, 1600, 1800, 2000], 'max_features': ['auto', 'sqrt'], 'max_depth': [10, 20, 30, 40, 50, 60, 70, 80, 90, 100, 110, None], 'min_samples_split': [2, 5, 10], 'min_samples_leaf': [1, 2, 4], 'bootstrap': [True, False]}\n"
     ]
    }
   ],
   "source": [
    "# intentem millorar el model i fem RandomizedSearch per buscar els millors hiperparàmetres\n",
    "# número d'arbres\n",
    "n_estimators = [int(x) for x in np.linspace(start = 200, stop = 2000, num=10)]\n",
    "# número de features a considerar a cada divisió\n",
    "max_features = ['auto', 'sqrt']\n",
    "# número màxim de nivells a l'arbre\n",
    "max_depth = [int(x) for x in np.linspace(10, 110, num = 11)]\n",
    "max_depth.append(None)\n",
    "# número mínim de mostres requerides per dividir node\n",
    "min_samples_split = [2,5,10]\n",
    "# número mínim de mostres requerides per cada fulla de node\n",
    "min_samples_leaf = [1,2,4]\n",
    "# mètode de selecció de mostres per entrenar cada arbre\n",
    "bootstrap = [True, False]\n",
    "# creem la xarxa aleatòria\n",
    "random_grid = {'n_estimators' : n_estimators,\n",
    "              'max_features' : max_features,\n",
    "              'max_depth' : max_depth,\n",
    "              'min_samples_split' : min_samples_split,\n",
    "              'min_samples_leaf' : min_samples_leaf,\n",
    "              'bootstrap' : bootstrap}\n",
    "print(random_grid)"
   ]
  },
  {
   "cell_type": "code",
   "execution_count": 18,
   "id": "a8dc6662",
   "metadata": {},
   "outputs": [
    {
     "name": "stdout",
     "output_type": "stream",
     "text": [
      "Fitting 5 folds for each of 100 candidates, totalling 500 fits\n"
     ]
    },
    {
     "data": {
      "text/plain": [
       "RandomizedSearchCV(cv=5,\n",
       "                   estimator=RandomForestRegressor(n_estimators=300,\n",
       "                                                   random_state=30),\n",
       "                   n_iter=100, n_jobs=-1,\n",
       "                   param_distributions={'bootstrap': [True, False],\n",
       "                                        'max_depth': [10, 20, 30, 40, 50, 60,\n",
       "                                                      70, 80, 90, 100, 110,\n",
       "                                                      None],\n",
       "                                        'max_features': ['auto', 'sqrt'],\n",
       "                                        'min_samples_leaf': [1, 2, 4],\n",
       "                                        'min_samples_split': [2, 5, 10],\n",
       "                                        'n_estimators': [200, 400, 600, 800,\n",
       "                                                         1000, 1200, 1400, 1600,\n",
       "                                                         1800, 2000]},\n",
       "                   random_state=42, verbose=2)"
      ]
     },
     "execution_count": 18,
     "metadata": {},
     "output_type": "execute_result"
    }
   ],
   "source": [
    "# busquem els millors hiperparàmetres\n",
    "# utilitzem 5 camps de validació creuada\n",
    "rf_random = RandomizedSearchCV(estimator = rf, param_distributions = random_grid,\n",
    "                              n_iter = 100, cv = 5, verbose = 2, random_state = 42,\n",
    "                              n_jobs = -1)\n",
    "rf_random.fit(X_train, y_train)\n"
   ]
  },
  {
   "cell_type": "code",
   "execution_count": 19,
   "id": "51f5f515",
   "metadata": {},
   "outputs": [
    {
     "data": {
      "text/plain": [
       "{'n_estimators': 400,\n",
       " 'min_samples_split': 2,\n",
       " 'min_samples_leaf': 1,\n",
       " 'max_features': 'sqrt',\n",
       " 'max_depth': None,\n",
       " 'bootstrap': False}"
      ]
     },
     "execution_count": 19,
     "metadata": {},
     "output_type": "execute_result"
    }
   ],
   "source": [
    "# aquests són els millors paràmetres per millorar el model.\n",
    "rf_random.best_params_"
   ]
  },
  {
   "cell_type": "code",
   "execution_count": 20,
   "id": "7d9b1de2",
   "metadata": {},
   "outputs": [
    {
     "name": "stdout",
     "output_type": "stream",
     "text": [
      "Dades entrenament\n",
      "1.0\n",
      "5.247423029125126e-29\n",
      "Dades evaluació\n",
      "0.8459069879560884\n",
      "0.2533805554287043\n"
     ]
    }
   ],
   "source": [
    "rf = RandomForestRegressor(n_estimators = 400,\n",
    "                           min_samples_split = 2,\n",
    "                           min_samples_leaf = 1,\n",
    "                           max_features = 'sqrt',\n",
    "                           max_depth = None,\n",
    "                           bootstrap = False)\n",
    "# ajustem entrenament\n",
    "model_rf = rf.fit(X_train, y_train)\n",
    "# predim entrenament\n",
    "pred_train_rf = rf.predict(X_train)\n",
    "# imprimim mètriques d'entrenament\n",
    "r2_rf_train = r2_score(y_train, pred_train_rf)\n",
    "mse_rf_train = mean_squared_error(y_train, pred_train_rf)\n",
    "print('Dades entrenament')\n",
    "print(r2_rf_train)\n",
    "print(mse_rf_train)\n",
    "# predim avaluació\n",
    "pred_test_rf = rf.predict(X_test)\n",
    "# imprimim métriques d'avaluació\n",
    "r2_rf_test = r2_score(y_test, pred_test_rf)\n",
    "mse_rf_test = mean_squared_error(y_test, pred_test_rf)\n",
    "print('Dades evaluació')\n",
    "print(r2_rf_test)\n",
    "print(mse_rf_test)"
   ]
  },
  {
   "cell_type": "markdown",
   "id": "77dda963",
   "metadata": {},
   "source": [
    " Un cop aplicat el tuneig d'hiperparàmetres veiem que les dades de l'score d'entrenament milloren de 0,98 a 1, per tant arribem al nivell òptim, i les dades d'avaluació pasen d' R2 0,86 a R2 0,84 i MSE de 0,24 a MSE 0,26"
   ]
  },
  {
   "cell_type": "markdown",
   "id": "acd3e4f3",
   "metadata": {},
   "source": [
    "### Entrenament Regressió Elastic Net"
   ]
  },
  {
   "cell_type": "code",
   "execution_count": 21,
   "id": "1de361ad",
   "metadata": {},
   "outputs": [
    {
     "name": "stdout",
     "output_type": "stream",
     "text": [
      "MAE: -0.399\n",
      "Config: {'alpha': 0.1, 'l1_ratio': 0.0}\n"
     ]
    },
    {
     "name": "stderr",
     "output_type": "stream",
     "text": [
      "C:\\Users\\imber\\anaconda3\\lib\\site-packages\\sklearn\\linear_model\\_coordinate_descent.py:647: ConvergenceWarning: Objective did not converge. You might want to increase the number of iterations, check the scale of the features or consider increasing regularisation. Duality gap: 8.023e+01, tolerance: 4.889e-02 Linear regression models with null weight for the l1 regularization term are more efficiently fitted using one of the solvers implemented in sklearn.linear_model.Ridge/RidgeCV instead.\n",
      "  model = cd_fast.enet_coordinate_descent(\n"
     ]
    }
   ],
   "source": [
    "model = ElasticNet()\n",
    "# definim el model del métode d'avaluació per buscar els millors hiperparàmetres\n",
    "cv = RepeatedKFold(n_splits=10, n_repeats=3, random_state = 1)\n",
    "# definim la xarxa\n",
    "grid = dict()\n",
    "grid['alpha'] = [1e-5, 1e-4, 1e-3, 1e-2, 1e-1, 0.0, 1.0, 10.0, 100.0]\n",
    "grid['l1_ratio'] = arange(0, 1, 0.01)\n",
    "# definim la recerca\n",
    "search = GridSearchCV(model, grid, scoring = 'neg_mean_absolute_error', cv=cv, n_jobs = -1)\n",
    "# fem la recerca\n",
    "results = search.fit(X_train, y_train)\n",
    "# imprimim\n",
    "print('MAE: %.3f' % results.best_score_)\n",
    "print('Config: %s' % results.best_params_)"
   ]
  },
  {
   "cell_type": "code",
   "execution_count": 22,
   "id": "b18a464c",
   "metadata": {},
   "outputs": [
    {
     "name": "stdout",
     "output_type": "stream",
     "text": [
      "Dades entrenament\n",
      "0.7478139426726093\n",
      "0.30516135821287066\n",
      "Dades evaluació\n",
      "0.6700980787049817\n",
      "0.5424693238581625\n"
     ]
    },
    {
     "name": "stderr",
     "output_type": "stream",
     "text": [
      "C:\\Users\\imber\\anaconda3\\lib\\site-packages\\sklearn\\linear_model\\_coordinate_descent.py:647: ConvergenceWarning: Objective did not converge. You might want to increase the number of iterations, check the scale of the features or consider increasing regularisation. Duality gap: 6.450e+01, tolerance: 4.889e-02 Linear regression models with null weight for the l1 regularization term are more efficiently fitted using one of the solvers implemented in sklearn.linear_model.Ridge/RidgeCV instead.\n",
      "  model = cd_fast.enet_coordinate_descent(\n"
     ]
    }
   ],
   "source": [
    "# triem el tipus de model\n",
    "model_enet = ElasticNet(alpha = 0.01, l1_ratio = 0.0)\n",
    "# ajustem entrenament\n",
    "model = model_enet.fit(X_train,y_train)\n",
    "# predim entrenament\n",
    "pred_train_enet = model_enet.predict(X_train)\n",
    "# imprimim métriques d'entrenament\n",
    "r2_enet_train = r2_score(y_train, pred_train_enet)\n",
    "mse_enet_train = mean_squared_error(y_train, pred_train_enet)\n",
    "print('Dades entrenament')\n",
    "print(r2_enet_train)\n",
    "print(mse_enet_train)\n",
    "# predim avaluació\n",
    "pred_test_enet = model_enet.predict(X_test)\n",
    "# imprimim métriques d'avaluació\n",
    "r2_enet_test = r2_score(y_test, pred_test_enet)\n",
    "mse_enet_test = mean_squared_error(y_test, pred_test_enet)\n",
    "print('Dades evaluació')\n",
    "print(r2_enet_test)\n",
    "print(mse_enet_test)"
   ]
  },
  {
   "cell_type": "markdown",
   "id": "1fbc8469",
   "metadata": {},
   "source": [
    "## Exercici 4\n",
    "Compara el seu rendiment emprant l'aproximació train/test o emprant totes les dades(validació interna)."
   ]
  },
  {
   "cell_type": "markdown",
   "id": "23157796",
   "metadata": {},
   "source": [
    "##### Random Forest"
   ]
  },
  {
   "cell_type": "code",
   "execution_count": 23,
   "id": "803fc7d5",
   "metadata": {},
   "outputs": [
    {
     "name": "stdout",
     "output_type": "stream",
     "text": [
      "R2 emprant validació interna té un valor de: 0.9827554314483801 amb entrenament el conjunt entrenament té un valor de:, 1.0 i evaluació: 0.8459069879560884\n"
     ]
    }
   ],
   "source": [
    "print('R2 emprant validació interna té un valor de:', r2_rf,'amb entrenament el conjunt entrenament té un valor de:,',r2_rf_train,'i evaluació:',r2_rf_test)"
   ]
  },
  {
   "cell_type": "code",
   "execution_count": 24,
   "id": "ec76db29",
   "metadata": {},
   "outputs": [
    {
     "name": "stdout",
     "output_type": "stream",
     "text": [
      "MSE emprant validació interna té un valor de: 0.022889379203935814 amb entrenament el conjunt entrenament té un valor de:, 5.247423029125126e-29 i evaluació: 0.2533805554287043\n"
     ]
    }
   ],
   "source": [
    "print('MSE emprant validació interna té un valor de:',mse_rf,'amb entrenament el conjunt entrenament té un valor de:,',mse_rf_train,'i evaluació:',mse_rf_test)"
   ]
  },
  {
   "cell_type": "markdown",
   "id": "71ee7bb9",
   "metadata": {},
   "source": [
    "##### Elastic Net"
   ]
  },
  {
   "cell_type": "code",
   "execution_count": 25,
   "id": "8e2467ca",
   "metadata": {},
   "outputs": [
    {
     "name": "stdout",
     "output_type": "stream",
     "text": [
      "R2 emprant validació interna té un valor de: 0.6795937892889988 amb entrenament el conjunt entrenament té un valor de:, 0.7478139426726093 i evaluació: 0.6700980787049817\n"
     ]
    }
   ],
   "source": [
    "print('R2 emprant validació interna té un valor de:', r2_enet,'amb entrenament el conjunt entrenament té un valor de:,',r2_enet_train,'i evaluació:',r2_enet_test)"
   ]
  },
  {
   "cell_type": "code",
   "execution_count": 26,
   "id": "8dc73abd",
   "metadata": {},
   "outputs": [
    {
     "name": "stdout",
     "output_type": "stream",
     "text": [
      "MSE emprant validació interna té un valor de: 0.4252874888871227 amb entrenament el conjunt entrenament té un valor de:, 0.30516135821287066 i evaluació: 0.5424693238581625\n"
     ]
    }
   ],
   "source": [
    "print('MSE emprant validació interna té un valor de:', mse_enet,'amb entrenament el conjunt entrenament té un valor de:,',mse_enet_train,'i evaluació:', mse_enet_test)"
   ]
  },
  {
   "cell_type": "markdown",
   "id": "fc87e01b",
   "metadata": {},
   "source": [
    "## Exercici 5\n",
    "No facis servir la variable del nombre d'habitacions (RM) a l'hora de fer prediccions."
   ]
  },
  {
   "cell_type": "code",
   "execution_count": 27,
   "id": "9a77bfff",
   "metadata": {},
   "outputs": [],
   "source": [
    "# labels són els valors que volem predir\n",
    "y = housing_scaled_df['MEDV'].values\n",
    "# eliminem labels de les features i la variable que tampoc volem\n",
    "X_2 = housing_scaled_df.drop(['MEDV','RM'], axis=1)\n",
    "# guardem features\n",
    "feature_list = list(X_2.columns)\n",
    "# convertim en numpy array\n",
    "X_2 = X_2.values"
   ]
  },
  {
   "cell_type": "code",
   "execution_count": 28,
   "id": "763a19e5",
   "metadata": {},
   "outputs": [
    {
     "name": "stdout",
     "output_type": "stream",
     "text": [
      "(354, 13)\n",
      "(152, 13)\n"
     ]
    }
   ],
   "source": [
    "# Creem els nous conjunts d'entrenament i evaluació sense la variable independent RM\n",
    "X_train_2, X_test_2, y_train_2, y_test_2 = train_test_split(X_2, y, train_size = 0.7, test_size = 0.3, random_state = 10)\n",
    "print(X_train_2.shape); print(X_test_2.shape)"
   ]
  },
  {
   "cell_type": "markdown",
   "id": "03f4ee80",
   "metadata": {},
   "source": [
    "#### Random Forest sense RM "
   ]
  },
  {
   "cell_type": "code",
   "execution_count": 29,
   "id": "9547070e",
   "metadata": {},
   "outputs": [
    {
     "name": "stdout",
     "output_type": "stream",
     "text": [
      "R2: 0.9767682227974511\n",
      "mse: 0.03083643156271022\n"
     ]
    }
   ],
   "source": [
    "# Regressió Random Forest\n",
    "# triem el tipos de model\n",
    "rf = RandomForestRegressor(n_estimators = 300, random_state = 30)\n",
    "# ajustem\n",
    "rf.fit(X_2,y)\n",
    "# fem les prediccions\n",
    "rf_pred_2 = rf.predict(X_2)\n",
    "# treiem r2\n",
    "r2_rf_2 = r2_score(y, rf_pred_2)\n",
    "print('R2:',r2_rf_2)\n",
    "# treiem MSE\n",
    "mse_rf_2 = mean_squared_error(y, rf_pred_2)\n",
    "print('mse:',mse_rf_2)"
   ]
  },
  {
   "cell_type": "code",
   "execution_count": 30,
   "id": "b6bfb1b3",
   "metadata": {},
   "outputs": [
    {
     "name": "stdout",
     "output_type": "stream",
     "text": [
      "respecte a lexercici 1 veiem que: pasem dun r2 de 0.9827554314483801 a 0.9767682227974511 i un mse de 0.022889379203935814 a 0.03083643156271022 per tant el model empitjora\n"
     ]
    }
   ],
   "source": [
    "print('respecte a lexercici 1 veiem que: pasem dun r2 de',r2_rf,'a',r2_rf_2,'i un mse de',mse_rf,'a',mse_rf_2,'per tant el model empitjora')"
   ]
  },
  {
   "cell_type": "code",
   "execution_count": 31,
   "id": "21832b14",
   "metadata": {},
   "outputs": [
    {
     "name": "stdout",
     "output_type": "stream",
     "text": [
      "Dades entrenament\n",
      "1.0\n",
      "5.422364548773908e-29\n",
      "Dades evaluació\n",
      "0.8040855551806427\n",
      "0.3007487212490667\n"
     ]
    }
   ],
   "source": [
    "rf = RandomForestRegressor(n_estimators = 400,\n",
    "                           min_samples_split = 2,\n",
    "                           min_samples_leaf = 1,\n",
    "                           max_features = 'sqrt',\n",
    "                           max_depth = None,\n",
    "                           bootstrap = False)\n",
    "# ajustem entrenament\n",
    "model_rf = rf.fit(X_train_2, y_train_2)\n",
    "# predim entrenament\n",
    "pred_train_rf_2 = rf.predict(X_train_2)\n",
    "# imprimim mètriques d'entrenament\n",
    "r2_rf_train_2 = r2_score(y_train_2, pred_train_rf_2)\n",
    "mse_rf_train_2 = mean_squared_error(y_train_2, pred_train_rf_2)\n",
    "print('Dades entrenament')\n",
    "print(r2_rf_train_2)\n",
    "print(mse_rf_train_2)\n",
    "# predim avaluació\n",
    "pred_test_rf_2 = rf.predict(X_test_2)\n",
    "# imprimim métriques d'avaluació\n",
    "r2_rf_test_2 = r2_score(y_test_2, pred_test_rf_2)\n",
    "mse_rf_test_2 = mean_squared_error(y_test_2, pred_test_rf_2)\n",
    "print('Dades evaluació')\n",
    "print(r2_rf_test_2)\n",
    "print(mse_rf_test_2)"
   ]
  },
  {
   "cell_type": "code",
   "execution_count": 32,
   "id": "76b73f58",
   "metadata": {},
   "outputs": [
    {
     "name": "stdout",
     "output_type": "stream",
     "text": [
      "entrenant el model veiem que pasem dun R2 de 0.8459069879560884 a 0.8040855551806427 i un mse de: 0.2533805554287043 a 0.3007487212490667\n"
     ]
    }
   ],
   "source": [
    "print('entrenant el model veiem que pasem dun R2 de',r2_rf_test,'a',r2_rf_test_2,'i un mse de:',mse_rf_test,'a',mse_rf_test_2)"
   ]
  },
  {
   "cell_type": "markdown",
   "id": "3d10cc23",
   "metadata": {},
   "source": [
    "- mirem el segon model de regressió elastic net sense RM"
   ]
  },
  {
   "cell_type": "code",
   "execution_count": 33,
   "id": "44d70213",
   "metadata": {},
   "outputs": [
    {
     "name": "stdout",
     "output_type": "stream",
     "text": [
      "0.61\n",
      "0.52\n"
     ]
    }
   ],
   "source": [
    "# Regressió Elastic Net\n",
    "# triem el tipus de model\n",
    "model_enet = ElasticNet(alpha = 0.10)\n",
    "# ajustem\n",
    "model_enet.fit(X_2, y)\n",
    "# fem les prediccions\n",
    "pred_enet_2 = model_enet.predict(X_2)\n",
    "# treiem el r2\n",
    "r2_enet_2 = r2_score(y, pred_enet_2).round(2)\n",
    "print(r2_enet_2)\n",
    "# treiem MSE\n",
    "mse_enet_2 = mean_squared_error(y, pred_enet_2).round(2)\n",
    "print(mse_enet_2)"
   ]
  },
  {
   "cell_type": "code",
   "execution_count": 34,
   "id": "32ca7c48",
   "metadata": {},
   "outputs": [
    {
     "name": "stdout",
     "output_type": "stream",
     "text": [
      "Dades entrenament\n",
      "0.63\n",
      "0.46\n",
      "Dades evaluació\n",
      "0.54\n",
      "0.71\n"
     ]
    }
   ],
   "source": [
    "# triem el tipus de model\n",
    "model_enet = ElasticNet(alpha = 0.10)\n",
    "# ajustem entrenament\n",
    "model_2 = model_enet.fit(X_train_2,y_train_2)\n",
    "# predim entrenament\n",
    "pred_train_enet_2 = model_enet.predict(X_train_2)\n",
    "# imprimim métriques d'entrenament\n",
    "r2_enet_train_2 = r2_score(y_train_2, pred_train_enet_2).round(2)\n",
    "mse_enet_train_2 = mean_squared_error(y_train_2, pred_train_enet_2).round(2)\n",
    "print('Dades entrenament')\n",
    "print(r2_enet_train_2)\n",
    "print(mse_enet_train_2)\n",
    "# predim avaluació\n",
    "pred_test_enet_2 = model_enet.predict(X_test_2)\n",
    "# imprimim métriques d'avaluació\n",
    "r2_enet_test_2 = r2_score(y_test_2, pred_test_enet_2).round(2)\n",
    "mse_enet_test_2 = mean_squared_error(y_test_2, pred_test_enet_2).round(2)\n",
    "print('Dades evaluació')\n",
    "print(r2_enet_test_2)\n",
    "print(mse_enet_test_2)"
   ]
  },
  {
   "cell_type": "code",
   "execution_count": 35,
   "id": "f451e6ad",
   "metadata": {},
   "outputs": [
    {
     "name": "stdout",
     "output_type": "stream",
     "text": [
      "entrenant el model veiem que pasem dun R2 de 0.6700980787049817 a 0.54 i un mse de: 0.5424693238581625 a 0.71\n"
     ]
    }
   ],
   "source": [
    "print('entrenant el model veiem que pasem dun R2 de',r2_enet_test,'a',r2_enet_test_2,'i un mse de:',mse_enet_test,'a',mse_enet_test_2)"
   ]
  }
 ],
 "metadata": {
  "kernelspec": {
   "display_name": "Python 3 (ipykernel)",
   "language": "python",
   "name": "python3"
  },
  "language_info": {
   "codemirror_mode": {
    "name": "ipython",
    "version": 3
   },
   "file_extension": ".py",
   "mimetype": "text/x-python",
   "name": "python",
   "nbconvert_exporter": "python",
   "pygments_lexer": "ipython3",
   "version": "3.9.12"
  }
 },
 "nbformat": 4,
 "nbformat_minor": 5
}
